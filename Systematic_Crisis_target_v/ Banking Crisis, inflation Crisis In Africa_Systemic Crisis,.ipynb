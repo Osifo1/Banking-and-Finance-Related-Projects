{
 "cells": [
  {
   "cell_type": "markdown",
   "id": "de793d96",
   "metadata": {},
   "source": [
    "## Step 1: Load and Explore the Dataset"
   ]
  },
  {
   "cell_type": "code",
   "execution_count": 1,
   "id": "c51200ff",
   "metadata": {},
   "outputs": [],
   "source": [
    "import pandas as pd\n",
    "\n",
    "# Load the dataset\n",
    "data = pd.read_csv(r'C:\\Users\\user\\Downloads/African_crises_dataset (1).csv')\n"
   ]
  },
  {
   "cell_type": "code",
   "execution_count": 2,
   "id": "ea940b62",
   "metadata": {},
   "outputs": [
    {
     "name": "stdout",
     "output_type": "stream",
     "text": [
      "   country_number country_code  country  year  systemic_crisis  exch_usd  \\\n",
      "0               1          DZA  Algeria  1870                1  0.052264   \n",
      "1               1          DZA  Algeria  1871                0  0.052798   \n",
      "2               1          DZA  Algeria  1872                0  0.052274   \n",
      "3               1          DZA  Algeria  1873                0  0.051680   \n",
      "4               1          DZA  Algeria  1874                0  0.051308   \n",
      "\n",
      "   domestic_debt_in_default  sovereign_external_debt_default  \\\n",
      "0                         0                                0   \n",
      "1                         0                                0   \n",
      "2                         0                                0   \n",
      "3                         0                                0   \n",
      "4                         0                                0   \n",
      "\n",
      "   gdp_weighted_default  inflation_annual_cpi  independence  currency_crises  \\\n",
      "0                   0.0              3.441456             0                0   \n",
      "1                   0.0             14.149140             0                0   \n",
      "2                   0.0             -3.718593             0                0   \n",
      "3                   0.0             11.203897             0                0   \n",
      "4                   0.0             -3.848561             0                0   \n",
      "\n",
      "   inflation_crises banking_crisis  \n",
      "0                 0         crisis  \n",
      "1                 0      no_crisis  \n",
      "2                 0      no_crisis  \n",
      "3                 0      no_crisis  \n",
      "4                 0      no_crisis  \n",
      "<class 'pandas.core.frame.DataFrame'>\n",
      "RangeIndex: 1059 entries, 0 to 1058\n",
      "Data columns (total 14 columns):\n",
      " #   Column                           Non-Null Count  Dtype  \n",
      "---  ------                           --------------  -----  \n",
      " 0   country_number                   1059 non-null   int64  \n",
      " 1   country_code                     1059 non-null   object \n",
      " 2   country                          1059 non-null   object \n",
      " 3   year                             1059 non-null   int64  \n",
      " 4   systemic_crisis                  1059 non-null   int64  \n",
      " 5   exch_usd                         1059 non-null   float64\n",
      " 6   domestic_debt_in_default         1059 non-null   int64  \n",
      " 7   sovereign_external_debt_default  1059 non-null   int64  \n",
      " 8   gdp_weighted_default             1059 non-null   float64\n",
      " 9   inflation_annual_cpi             1059 non-null   float64\n",
      " 10  independence                     1059 non-null   int64  \n",
      " 11  currency_crises                  1059 non-null   int64  \n",
      " 12  inflation_crises                 1059 non-null   int64  \n",
      " 13  banking_crisis                   1059 non-null   object \n",
      "dtypes: float64(3), int64(8), object(3)\n",
      "memory usage: 116.0+ KB\n",
      "None\n",
      "country_number                     0\n",
      "country_code                       0\n",
      "country                            0\n",
      "year                               0\n",
      "systemic_crisis                    0\n",
      "exch_usd                           0\n",
      "domestic_debt_in_default           0\n",
      "sovereign_external_debt_default    0\n",
      "gdp_weighted_default               0\n",
      "inflation_annual_cpi               0\n",
      "independence                       0\n",
      "currency_crises                    0\n",
      "inflation_crises                   0\n",
      "banking_crisis                     0\n",
      "dtype: int64\n"
     ]
    }
   ],
   "source": [
    "# Display the first few rows of the dataset\n",
    "print(data.head())\n",
    "\n",
    "# Display general information about the dataset\n",
    "print(data.info())\n",
    "\n",
    "# Check for missing values\n",
    "print(data.isnull().sum())\n"
   ]
  },
  {
   "cell_type": "code",
   "execution_count": null,
   "id": "12b4512d",
   "metadata": {},
   "outputs": [],
   "source": [
    "from pandas_profiling import ProfileReport\n",
    "\n",
    "# Create a profiling report\n",
    "profile = ProfileReport(data, title='Pandas Profiling Report', explorative=True)\n",
    "\n",
    "# Save the report as an HTML file\n",
    "profile.to_file('African_Bank_crises_dataset_profiling_report.html')"
   ]
  },
  {
   "cell_type": "code",
   "execution_count": null,
   "id": "40c01cf1",
   "metadata": {},
   "outputs": [],
   "source": []
  },
  {
   "cell_type": "code",
   "execution_count": 3,
   "id": "a6f97e9a",
   "metadata": {},
   "outputs": [],
   "source": [
    "# Remove duplicates if they exist\n",
    "data.drop_duplicates(inplace=True)\n"
   ]
  },
  {
   "cell_type": "markdown",
   "id": "ca5849d2",
   "metadata": {},
   "source": [
    "## Step 2: Feature Selection"
   ]
  },
  {
   "cell_type": "code",
   "execution_count": 16,
   "id": "cad8281b",
   "metadata": {},
   "outputs": [],
   "source": [
    "data1 = data"
   ]
  },
  {
   "cell_type": "code",
   "execution_count": 17,
   "id": "8e60b7e0",
   "metadata": {},
   "outputs": [],
   "source": [
    "import pandas as pd\n",
    "from sklearn.preprocessing import LabelEncoder\n",
    "\n",
    "# Sample data frame (replace with your actual DataFrame)\n",
    "# data = pd.read_csv('your_dataset.csv')\n",
    "\n",
    "# Step 1: Define features and target variable\n",
    "features = ['currency_crises', 'inflation_crises', 'banking_crisis', 'exch_usd', 'inflation_annual_cpi', 'domestic_debt_in_default']\n",
    "target = 'systemic_crisis'"
   ]
  },
  {
   "cell_type": "code",
   "execution_count": 18,
   "id": "43978510",
   "metadata": {},
   "outputs": [],
   "source": [
    "# Separate features and target variable\n",
    "X = data1[features]\n",
    "y = data1[target]"
   ]
  },
  {
   "cell_type": "code",
   "execution_count": 19,
   "id": "9c0edce5",
   "metadata": {},
   "outputs": [
    {
     "name": "stdout",
     "output_type": "stream",
     "text": [
      "<class 'pandas.core.frame.DataFrame'>\n",
      "RangeIndex: 1059 entries, 0 to 1058\n",
      "Data columns (total 6 columns):\n",
      " #   Column                    Non-Null Count  Dtype  \n",
      "---  ------                    --------------  -----  \n",
      " 0   currency_crises           1059 non-null   int64  \n",
      " 1   inflation_crises          1059 non-null   int64  \n",
      " 2   banking_crisis            1059 non-null   int32  \n",
      " 3   exch_usd                  1059 non-null   float64\n",
      " 4   inflation_annual_cpi      1059 non-null   float64\n",
      " 5   domestic_debt_in_default  1059 non-null   int64  \n",
      "dtypes: float64(2), int32(1), int64(3)\n",
      "memory usage: 45.6 KB\n",
      "<class 'pandas.core.series.Series'>\n",
      "RangeIndex: 1059 entries, 0 to 1058\n",
      "Series name: systemic_crisis\n",
      "Non-Null Count  Dtype\n",
      "--------------  -----\n",
      "1059 non-null   int64\n",
      "dtypes: int64(1)\n",
      "memory usage: 8.4 KB\n"
     ]
    }
   ],
   "source": [
    "X.info()\n",
    "y.info()"
   ]
  },
  {
   "cell_type": "markdown",
   "id": "b3cac7e9",
   "metadata": {},
   "source": [
    "## Step:3  Encoding the banking_crisis Column"
   ]
  },
  {
   "cell_type": "code",
   "execution_count": 20,
   "id": "7ed7981c",
   "metadata": {},
   "outputs": [],
   "source": [
    "# Encode the target column\n",
    "data1['banking_crisis'] = data1['banking_crisis'].map({'crisis': 1, 'no_crisis': 0})"
   ]
  },
  {
   "cell_type": "code",
   "execution_count": 21,
   "id": "e570eec8",
   "metadata": {},
   "outputs": [
    {
     "data": {
      "text/plain": [
       "dtype('float64')"
      ]
     },
     "execution_count": 21,
     "metadata": {},
     "output_type": "execute_result"
    }
   ],
   "source": [
    "data1['banking_crisis'].dtypes"
   ]
  },
  {
   "cell_type": "code",
   "execution_count": 22,
   "id": "be515f85",
   "metadata": {},
   "outputs": [
    {
     "data": {
      "text/plain": [
       "0      NaN\n",
       "1      NaN\n",
       "2      NaN\n",
       "3      NaN\n",
       "4      NaN\n",
       "        ..\n",
       "1054   NaN\n",
       "1055   NaN\n",
       "1056   NaN\n",
       "1057   NaN\n",
       "1058   NaN\n",
       "Name: banking_crisis, Length: 1059, dtype: float64"
      ]
     },
     "execution_count": 22,
     "metadata": {},
     "output_type": "execute_result"
    }
   ],
   "source": [
    "data1['banking_crisis']"
   ]
  },
  {
   "cell_type": "markdown",
   "id": "e00ab724",
   "metadata": {},
   "source": [
    "## Step 4: Splitting the Dataset"
   ]
  },
  {
   "cell_type": "code",
   "execution_count": 23,
   "id": "66abefa4",
   "metadata": {
    "scrolled": true
   },
   "outputs": [],
   "source": [
    "from sklearn.model_selection import train_test_split\n",
    "\n",
    "# Split the data into training and test sets (80% train, 20% test)\n",
    "X_train, X_test, y_train, y_test = train_test_split(X, y, test_size=0.2, random_state=42)\n"
   ]
  },
  {
   "cell_type": "markdown",
   "id": "458e3ed9",
   "metadata": {},
   "source": [
    "## Step 5: Building,Training the Model and Evaluation"
   ]
  },
  {
   "cell_type": "code",
   "execution_count": 27,
   "id": "f973b1ac",
   "metadata": {},
   "outputs": [],
   "source": [
    "from sklearn.linear_model import LogisticRegression\n",
    "from sklearn.metrics import confusion_matrix, classification_report, accuracy_score\n",
    "\n",
    "# Create a Logistic Regression model\n",
    "model = LogisticRegression(random_state=42, max_iter=1000)\n"
   ]
  },
  {
   "cell_type": "code",
   "execution_count": 28,
   "id": "d98cb7d9",
   "metadata": {},
   "outputs": [],
   "source": [
    "# Fit the model on the training data\n",
    "model.fit(X_train, y_train)\n",
    "\n",
    "# Make predictions on the test set\n",
    "y_pred = model.predict(X_test)"
   ]
  },
  {
   "cell_type": "markdown",
   "id": "0aedef4b",
   "metadata": {},
   "source": [
    "## Step 6: Evaluation"
   ]
  },
  {
   "cell_type": "code",
   "execution_count": 29,
   "id": "f59ccbb6",
   "metadata": {},
   "outputs": [
    {
     "name": "stdout",
     "output_type": "stream",
     "text": [
      "Confusion Matrix:\n",
      "[[193   2]\n",
      " [  1  16]]\n",
      "\n",
      "Classification Report:\n",
      "              precision    recall  f1-score   support\n",
      "\n",
      "           0       0.99      0.99      0.99       195\n",
      "           1       0.89      0.94      0.91        17\n",
      "\n",
      "    accuracy                           0.99       212\n",
      "   macro avg       0.94      0.97      0.95       212\n",
      "weighted avg       0.99      0.99      0.99       212\n",
      "\n",
      "Accuracy: 0.9858490566037735\n"
     ]
    }
   ],
   "source": [
    "# Evaluate the model performance\n",
    "print(\"Confusion Matrix:\")\n",
    "print(confusion_matrix(y_test, y_pred))\n",
    "print(\"\\nClassification Report:\")\n",
    "print(classification_report(y_test, y_pred))\n",
    "print(\"Accuracy:\", accuracy_score(y_test, y_pred))"
   ]
  },
  {
   "cell_type": "code",
   "execution_count": null,
   "id": "855c5b8a",
   "metadata": {},
   "outputs": [],
   "source": []
  }
 ],
 "metadata": {
  "kernelspec": {
   "display_name": "Python 3 (ipykernel)",
   "language": "python",
   "name": "python3"
  },
  "language_info": {
   "codemirror_mode": {
    "name": "ipython",
    "version": 3
   },
   "file_extension": ".py",
   "mimetype": "text/x-python",
   "name": "python",
   "nbconvert_exporter": "python",
   "pygments_lexer": "ipython3",
   "version": "3.11.4"
  }
 },
 "nbformat": 4,
 "nbformat_minor": 5
}
