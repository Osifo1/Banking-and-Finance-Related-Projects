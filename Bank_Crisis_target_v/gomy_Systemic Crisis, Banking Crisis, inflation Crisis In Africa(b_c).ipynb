{
 "cells": [
  {
   "cell_type": "markdown",
   "id": "84f19daf",
   "metadata": {},
   "source": [
    "## Step 1: Load and Explore the Dataset\n",
    "Start by loading the dataset into your Jupyter Notebook. Perform basic exploratory data analysis (EDA) to understand the data structure, check for missing values, and identify any issues."
   ]
  },
  {
   "cell_type": "code",
   "execution_count": 21,
   "id": "c51200ff",
   "metadata": {},
   "outputs": [],
   "source": [
    "import pandas as pd\n",
    "\n",
    "# Load the dataset\n",
    "data = pd.read_csv(r'C:\\Users\\user\\Downloads/African_crises_dataset (1).csv')\n"
   ]
  },
  {
   "cell_type": "code",
   "execution_count": 22,
   "id": "ea940b62",
   "metadata": {},
   "outputs": [
    {
     "name": "stdout",
     "output_type": "stream",
     "text": [
      "   country_number country_code  country  year  systemic_crisis  exch_usd  \\\n",
      "0               1          DZA  Algeria  1870                1  0.052264   \n",
      "1               1          DZA  Algeria  1871                0  0.052798   \n",
      "2               1          DZA  Algeria  1872                0  0.052274   \n",
      "3               1          DZA  Algeria  1873                0  0.051680   \n",
      "4               1          DZA  Algeria  1874                0  0.051308   \n",
      "\n",
      "   domestic_debt_in_default  sovereign_external_debt_default  \\\n",
      "0                         0                                0   \n",
      "1                         0                                0   \n",
      "2                         0                                0   \n",
      "3                         0                                0   \n",
      "4                         0                                0   \n",
      "\n",
      "   gdp_weighted_default  inflation_annual_cpi  independence  currency_crises  \\\n",
      "0                   0.0              3.441456             0                0   \n",
      "1                   0.0             14.149140             0                0   \n",
      "2                   0.0             -3.718593             0                0   \n",
      "3                   0.0             11.203897             0                0   \n",
      "4                   0.0             -3.848561             0                0   \n",
      "\n",
      "   inflation_crises banking_crisis  \n",
      "0                 0         crisis  \n",
      "1                 0      no_crisis  \n",
      "2                 0      no_crisis  \n",
      "3                 0      no_crisis  \n",
      "4                 0      no_crisis  \n",
      "<class 'pandas.core.frame.DataFrame'>\n",
      "RangeIndex: 1059 entries, 0 to 1058\n",
      "Data columns (total 14 columns):\n",
      " #   Column                           Non-Null Count  Dtype  \n",
      "---  ------                           --------------  -----  \n",
      " 0   country_number                   1059 non-null   int64  \n",
      " 1   country_code                     1059 non-null   object \n",
      " 2   country                          1059 non-null   object \n",
      " 3   year                             1059 non-null   int64  \n",
      " 4   systemic_crisis                  1059 non-null   int64  \n",
      " 5   exch_usd                         1059 non-null   float64\n",
      " 6   domestic_debt_in_default         1059 non-null   int64  \n",
      " 7   sovereign_external_debt_default  1059 non-null   int64  \n",
      " 8   gdp_weighted_default             1059 non-null   float64\n",
      " 9   inflation_annual_cpi             1059 non-null   float64\n",
      " 10  independence                     1059 non-null   int64  \n",
      " 11  currency_crises                  1059 non-null   int64  \n",
      " 12  inflation_crises                 1059 non-null   int64  \n",
      " 13  banking_crisis                   1059 non-null   object \n",
      "dtypes: float64(3), int64(8), object(3)\n",
      "memory usage: 116.0+ KB\n",
      "None\n",
      "country_number                     0\n",
      "country_code                       0\n",
      "country                            0\n",
      "year                               0\n",
      "systemic_crisis                    0\n",
      "exch_usd                           0\n",
      "domestic_debt_in_default           0\n",
      "sovereign_external_debt_default    0\n",
      "gdp_weighted_default               0\n",
      "inflation_annual_cpi               0\n",
      "independence                       0\n",
      "currency_crises                    0\n",
      "inflation_crises                   0\n",
      "banking_crisis                     0\n",
      "dtype: int64\n"
     ]
    }
   ],
   "source": [
    "# Display the first few rows of the dataset\n",
    "print(data.head())\n",
    "\n",
    "# Display general information about the dataset\n",
    "print(data.info())\n",
    "\n",
    "# Check for missing values\n",
    "print(data.isnull().sum())\n"
   ]
  },
  {
   "cell_type": "code",
   "execution_count": 36,
   "id": "0be7c372",
   "metadata": {},
   "outputs": [
    {
     "name": "stdout",
     "output_type": "stream",
     "text": [
      "banking_crisis\n",
      "0    965\n",
      "1     94\n",
      "Name: count, dtype: int64\n",
      "systemic_crisis\n",
      "0    977\n",
      "1     82\n",
      "Name: count, dtype: int64\n",
      "       country_number         year  systemic_crisis     exch_usd  \\\n",
      "count     1059.000000  1059.000000      1059.000000  1059.000000   \n",
      "mean        35.613787  1967.767705         0.077432    43.140831   \n",
      "std         23.692402    33.530632         0.267401   111.475380   \n",
      "min          1.000000  1860.000000         0.000000     0.000000   \n",
      "25%         15.000000  1951.000000         0.000000     0.195350   \n",
      "50%         38.000000  1973.000000         0.000000     0.868400   \n",
      "75%         56.000000  1994.000000         0.000000     8.462750   \n",
      "max         70.000000  2014.000000         1.000000   744.306139   \n",
      "\n",
      "       domestic_debt_in_default  sovereign_external_debt_default  \\\n",
      "count               1059.000000                      1059.000000   \n",
      "mean                   0.039660                         0.152975   \n",
      "std                    0.195251                         0.360133   \n",
      "min                    0.000000                         0.000000   \n",
      "25%                    0.000000                         0.000000   \n",
      "50%                    0.000000                         0.000000   \n",
      "75%                    0.000000                         0.000000   \n",
      "max                    1.000000                         1.000000   \n",
      "\n",
      "       gdp_weighted_default  inflation_annual_cpi  independence  \\\n",
      "count           1059.000000          1.059000e+03   1059.000000   \n",
      "mean               0.006402          2.084889e+04      0.776204   \n",
      "std                0.043572          6.757274e+05      0.416984   \n",
      "min                0.000000         -2.850214e+01      0.000000   \n",
      "25%                0.000000          2.086162e+00      1.000000   \n",
      "50%                0.000000          5.762330e+00      1.000000   \n",
      "75%                0.000000          1.164405e+01      1.000000   \n",
      "max                0.400000          2.198970e+07      1.000000   \n",
      "\n",
      "       currency_crises  inflation_crises  banking_crisis  \n",
      "count      1059.000000       1059.000000     1059.000000  \n",
      "mean          0.132200          0.129367        0.088763  \n",
      "std           0.349847          0.335765        0.284536  \n",
      "min           0.000000          0.000000        0.000000  \n",
      "25%           0.000000          0.000000        0.000000  \n",
      "50%           0.000000          0.000000        0.000000  \n",
      "75%           0.000000          0.000000        0.000000  \n",
      "max           2.000000          1.000000        1.000000  \n"
     ]
    }
   ],
   "source": [
    "# Check unique values in the target column\n",
    "print(data['banking_crisis'].value_counts())\n",
    "\n",
    "# Check unique values in the target column\n",
    "print(data['systemic_crisis'].value_counts())\n",
    "\n",
    "# Summary statistics\n",
    "print(data.describe())"
   ]
  },
  {
   "cell_type": "markdown",
   "id": "f646bcdc",
   "metadata": {},
   "source": [
    "## Step 2: Data Cleaning and Encoding the Target Column\n",
    "\n",
    "clean the dataset by addressing any issues identified in Step 1, such as handling missing values. Additionally, encode the target column (banking_crisis) into numeric values, as machine learning models require numerical inputs."
   ]
  },
  {
   "cell_type": "code",
   "execution_count": 32,
   "id": "c64a67f3",
   "metadata": {},
   "outputs": [],
   "source": [
    "# Encode the target column\n",
    "data['banking_crisis'] = data['banking_crisis'].map({'crisis': 1, 'no_crisis': 0})"
   ]
  },
  {
   "cell_type": "code",
   "execution_count": 34,
   "id": "41c89003",
   "metadata": {},
   "outputs": [
    {
     "name": "stdout",
     "output_type": "stream",
     "text": [
      "banking_crisis\n",
      "0    965\n",
      "1     94\n",
      "Name: count, dtype: int64\n"
     ]
    }
   ],
   "source": [
    "# Verify the changes\n",
    "print(data['banking_crisis'].value_counts())  # Confirm encoding"
   ]
  },
  {
   "cell_type": "markdown",
   "id": "41c26318",
   "metadata": {},
   "source": [
    "## Step 3: Feature Selection\n",
    "Now, we need to identify which columns to include as features (X) and which to exclude. Typically, we exclude irrelevant columns such as IDs, redundant features, or columns that leak target information."
   ]
  },
  {
   "cell_type": "code",
   "execution_count": 37,
   "id": "c8e89487",
   "metadata": {},
   "outputs": [
    {
     "name": "stdout",
     "output_type": "stream",
     "text": [
      "Features shape: (1059, 6)\n",
      "Target shape: (1059,)\n",
      "Selected features: Index(['currency_crises', 'inflation_crises', 'systemic_crisis', 'exch_usd',\n",
      "       'inflation_annual_cpi', 'domestic_debt_in_default'],\n",
      "      dtype='object')\n"
     ]
    }
   ],
   "source": [
    "# Define selected features and target\n",
    "features = ['currency_crises', 'inflation_crises', 'systemic_crisis', \n",
    "            'exch_usd', 'inflation_annual_cpi', 'domestic_debt_in_default']\n",
    "target = 'banking_crisis'\n",
    "\n",
    "# Subset the dataset to include only the selected features and target\n",
    "X = data[features]  # Features\n",
    "y = data[target]    # Target\n",
    "\n",
    "# Check the shape of X and y\n",
    "print(f\"Features shape: {X.shape}\")\n",
    "print(f\"Target shape: {y.shape}\")\n",
    "\n",
    "# Verify the feature columns\n",
    "print(\"Selected features:\", X.columns)\n"
   ]
  },
  {
   "cell_type": "markdown",
   "id": "3dc2fe1c",
   "metadata": {},
   "source": [
    "## Step 4: Scaling Features\n"
   ]
  },
  {
   "cell_type": "code",
   "execution_count": 38,
   "id": "9bd0f765",
   "metadata": {},
   "outputs": [
    {
     "name": "stdout",
     "output_type": "stream",
     "text": [
      "\n",
      "Scaled feature sample:\n",
      "[[-0.37805817 -0.38547376  3.45175812 -0.38671252 -0.03086348 -0.20321893]\n",
      " [-0.37805817 -0.38547376 -0.28970744 -0.38670773 -0.03084763 -0.20321893]\n",
      " [-0.37805817 -0.38547376 -0.28970744 -0.38671243 -0.03087408 -0.20321893]\n",
      " [-0.37805817 -0.38547376 -0.28970744 -0.38671776 -0.03085199 -0.20321893]\n",
      " [-0.37805817 -0.38547376 -0.28970744 -0.3867211  -0.03087427 -0.20321893]]\n"
     ]
    }
   ],
   "source": [
    "from sklearn.preprocessing import StandardScaler\n",
    "\n",
    "# Scale features\n",
    "scaler = StandardScaler()\n",
    "X_scaled = scaler.fit_transform(X)\n",
    "\n",
    "# Verify scaled features\n",
    "print(\"\\nScaled feature sample:\")\n",
    "print(X_scaled[:5])\n"
   ]
  },
  {
   "cell_type": "markdown",
   "id": "6c51ea3a",
   "metadata": {},
   "source": [
    "## Step 5: Splitting the Dataset\n",
    "Now that your features are scaled, the next step is to split the dataset into training and testing sets. This ensures your model is evaluated on unseen data to measure its performance effectively. We'll use the train_test_split function from sklearn."
   ]
  },
  {
   "cell_type": "code",
   "execution_count": 40,
   "id": "5f3c5411",
   "metadata": {},
   "outputs": [
    {
     "name": "stdout",
     "output_type": "stream",
     "text": [
      "Training set size: 847 samples\n",
      "Test set size: 212 samples\n"
     ]
    }
   ],
   "source": [
    "from sklearn.model_selection import train_test_split\n",
    "\n",
    "# Split the data into training and testing sets\n",
    "X_train, X_test, y_train, y_test = train_test_split(\n",
    "    X_scaled, y, test_size=0.2, random_state=42, stratify=y\n",
    ")\n",
    "\n",
    "# Verify the sizes of the splits\n",
    "print(f\"Training set size: {X_train.shape[0]} samples\")\n",
    "print(f\"Test set size: {X_test.shape[0]} samples\")\n"
   ]
  },
  {
   "cell_type": "markdown",
   "id": "9047e0d0",
   "metadata": {},
   "source": [
    "## Step 6: Building and Training the Model\n",
    "Now that your data is split into training and testing sets, it's time to build and train the model. For this classification task, let's start with a Logistic Regression model, which is commonly used for binary classification.\n",
    "\n"
   ]
  },
  {
   "cell_type": "code",
   "execution_count": 42,
   "id": "9d202464",
   "metadata": {},
   "outputs": [
    {
     "name": "stdout",
     "output_type": "stream",
     "text": [
      "Accuracy: 96.70%\n",
      "\n",
      "Classification Report:\n",
      "              precision    recall  f1-score   support\n",
      "\n",
      "           0       0.97      0.99      0.98       193\n",
      "           1       0.93      0.68      0.79        19\n",
      "\n",
      "    accuracy                           0.97       212\n",
      "   macro avg       0.95      0.84      0.88       212\n",
      "weighted avg       0.97      0.97      0.96       212\n",
      "\n",
      "[[192   1]\n",
      " [  6  13]]\n"
     ]
    }
   ],
   "source": [
    "from sklearn.linear_model import LogisticRegression\n",
    "from sklearn.metrics import classification_report, accuracy_score, confusion_matrix\n",
    "\n",
    "# Initialize the Logistic Regression model\n",
    "model = LogisticRegression(random_state=42)\n",
    "\n",
    "# Fit the model on the training data\n",
    "model.fit(X_train, y_train)\n",
    "\n",
    "# Make predictions on the test set\n",
    "y_pred = model.predict(X_test)\n",
    "\n",
    "# Evaluate the model\n",
    "accuracy = accuracy_score(y_test, y_pred)\n",
    "print(f\"Accuracy: {accuracy * 100:.2f}%\")\n",
    "\n",
    "# Print the classification report\n",
    "print(\"\\nClassification Report:\")\n",
    "print(classification_report(y_test, y_pred))\n",
    "print(confusion_matrix(y_test, y_pred))\n"
   ]
  },
  {
   "cell_type": "code",
   "execution_count": null,
   "id": "14f5889c",
   "metadata": {},
   "outputs": [],
   "source": []
  }
 ],
 "metadata": {
  "kernelspec": {
   "display_name": "Python 3 (ipykernel)",
   "language": "python",
   "name": "python3"
  },
  "language_info": {
   "codemirror_mode": {
    "name": "ipython",
    "version": 3
   },
   "file_extension": ".py",
   "mimetype": "text/x-python",
   "name": "python",
   "nbconvert_exporter": "python",
   "pygments_lexer": "ipython3",
   "version": "3.11.4"
  }
 },
 "nbformat": 4,
 "nbformat_minor": 5
}
